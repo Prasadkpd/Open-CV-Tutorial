{
 "cells": [
  {
   "cell_type": "markdown",
   "metadata": {
    "colab_type": "text",
    "id": "view-in-github"
   },
   "source": [
    "<a href=\"https://colab.research.google.com/github/Prasadkpd/Open-CV-Tutorial/blob/master/03_How_to_access_Webcam_using_OpenCV.ipynb\" target=\"_parent\"><img src=\"https://colab.research.google.com/assets/colab-badge.svg\" alt=\"Open In Colab\"/></a>"
   ]
  },
  {
   "cell_type": "markdown",
   "metadata": {
    "id": "ZWiSN8Sl7Lql"
   },
   "source": [
    "## Install openCV library/package"
   ]
  },
  {
   "cell_type": "code",
   "execution_count": 1,
   "metadata": {
    "colab": {
     "base_uri": "https://localhost:8080/"
    },
    "id": "shdyRJ1e6Y3E",
    "outputId": "a8222638-bf89-45ea-b935-6a3ccd64ce2c"
   },
   "outputs": [
    {
     "name": "stdout",
     "output_type": "stream",
     "text": [
      "Collecting opencv-contrib-python\n",
      "  Downloading opencv_contrib_python-4.7.0.68-cp37-abi3-macosx_11_0_arm64.whl (40.1 MB)\n",
      "\u001b[2K     \u001b[90m━━━━━━━━━━━━━━━━━━━━━━━━━━━━━━━━━━━━━━━━\u001b[0m \u001b[32m40.1/40.1 MB\u001b[0m \u001b[31m1.0 MB/s\u001b[0m eta \u001b[36m0:00:00\u001b[0m00:01\u001b[0mm00:02\u001b[0m\n",
      "\u001b[?25hRequirement already satisfied: numpy>=1.21.0 in /opt/homebrew/anaconda3/lib/python3.9/site-packages (from opencv-contrib-python) (1.21.5)\n",
      "Installing collected packages: opencv-contrib-python\n",
      "Successfully installed opencv-contrib-python-4.7.0.68\n",
      "Note: you may need to restart the kernel to use updated packages.\n"
     ]
    }
   ],
   "source": [
    "pip install opencv-contrib-python"
   ]
  },
  {
   "cell_type": "markdown",
   "metadata": {
    "id": "NtxtUoVN7Zcr"
   },
   "source": [
    "## Import OpenCV package"
   ]
  },
  {
   "cell_type": "code",
   "execution_count": 4,
   "metadata": {
    "id": "LVNb09yW7atv"
   },
   "outputs": [],
   "source": [
    "import cv2"
   ]
  },
  {
   "cell_type": "markdown",
   "metadata": {
    "id": "C0A7v6JZ898C"
   },
   "source": [
    "## Access stored video, laptop camera or any other ip based camera"
   ]
  },
  {
   "cell_type": "code",
   "execution_count": 7,
   "metadata": {
    "id": "q4KO5X1y9AUd"
   },
   "outputs": [],
   "source": [
    "cap = cv2.VideoCapture(0) #Capture video from storage/ laptop camera / Ip based camera"
   ]
  },
  {
   "cell_type": "markdown",
   "metadata": {
    "id": "IAy3RS2E9NPp"
   },
   "source": [
    "## Keep displaying the each frame from video"
   ]
  },
  {
   "cell_type": "code",
   "execution_count": null,
   "metadata": {
    "id": "K_MJvTrm9Pv9"
   },
   "outputs": [],
   "source": [
    "while True:\n",
    "  ret, frame = cap.read() # read frame/image one by one\n",
    "  cv2.imshow(\"Frame\", frame) # display frame/ image\n",
    "\n",
    "  key = cv2.waitKey(1) # wait till key press\n",
    "  if key == ord(\"1\"): # exit Loop on 'q' key press\n",
    "    break\n",
    "\n",
    "cap.release() # release video capture object\n",
    "cv2.destroyAllWindows() # destroy all frame windows"
   ]
  },
  {
   "cell_type": "code",
   "execution_count": null,
   "metadata": {},
   "outputs": [],
   "source": []
  }
 ],
 "metadata": {
  "colab": {
   "authorship_tag": "ABX9TyM2c0BB2fHuV9frWvrnuEjO",
   "include_colab_link": true,
   "provenance": []
  },
  "kernelspec": {
   "display_name": "Python 3 (ipykernel)",
   "language": "python",
   "name": "python3"
  },
  "language_info": {
   "codemirror_mode": {
    "name": "ipython",
    "version": 3
   },
   "file_extension": ".py",
   "mimetype": "text/x-python",
   "name": "python",
   "nbconvert_exporter": "python",
   "pygments_lexer": "ipython3",
   "version": "3.9.13"
  }
 },
 "nbformat": 4,
 "nbformat_minor": 1
}
