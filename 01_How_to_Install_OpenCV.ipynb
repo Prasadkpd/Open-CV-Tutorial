{
  "nbformat": 4,
  "nbformat_minor": 0,
  "metadata": {
    "colab": {
      "provenance": [],
      "authorship_tag": "ABX9TyNhHQsf+t8zCNdIu1AcVtHB",
      "include_colab_link": true
    },
    "kernelspec": {
      "name": "python3",
      "display_name": "Python 3"
    },
    "language_info": {
      "name": "python"
    }
  },
  "cells": [
    {
      "cell_type": "markdown",
      "metadata": {
        "id": "view-in-github",
        "colab_type": "text"
      },
      "source": [
        "<a href=\"https://colab.research.google.com/github/Prasadkpd/Open-CV-Tutorial/blob/master/01_How_to_Install_OpenCV.ipynb\" target=\"_parent\"><img src=\"https://colab.research.google.com/assets/colab-badge.svg\" alt=\"Open In Colab\"/></a>"
      ]
    },
    {
      "cell_type": "markdown",
      "source": [
        "OpenCV is open source Computer Vision library which is also available with python distribution. This library has different mudules to handle the image and video related processing as well as It has readymade Machine Learning algorithms which we can use on our data."
      ],
      "metadata": {
        "id": "5HxXyaJm6iwc"
      }
    },
    {
      "cell_type": "markdown",
      "source": [
        "## Install openCV library/package"
      ],
      "metadata": {
        "id": "ZWiSN8Sl7Lql"
      }
    },
    {
      "cell_type": "code",
      "execution_count": 1,
      "metadata": {
        "colab": {
          "base_uri": "https://localhost:8080/"
        },
        "id": "shdyRJ1e6Y3E",
        "outputId": "a8222638-bf89-45ea-b935-6a3ccd64ce2c"
      },
      "outputs": [
        {
          "output_type": "stream",
          "name": "stdout",
          "text": [
            "Looking in indexes: https://pypi.org/simple, https://us-python.pkg.dev/colab-wheels/public/simple/\n",
            "Requirement already satisfied: opencv-contrib-python in /usr/local/lib/python3.8/dist-packages (4.6.0.66)\n",
            "Requirement already satisfied: numpy>=1.14.5 in /usr/local/lib/python3.8/dist-packages (from opencv-contrib-python) (1.21.6)\n"
          ]
        }
      ],
      "source": [
        "pip install opencv-contrib-python"
      ]
    },
    {
      "cell_type": "markdown",
      "source": [
        "## Import OpenCV package"
      ],
      "metadata": {
        "id": "NtxtUoVN7Zcr"
      }
    },
    {
      "cell_type": "code",
      "source": [
        "import cv2"
      ],
      "metadata": {
        "id": "LVNb09yW7atv"
      },
      "execution_count": null,
      "outputs": []
    }
  ]
}