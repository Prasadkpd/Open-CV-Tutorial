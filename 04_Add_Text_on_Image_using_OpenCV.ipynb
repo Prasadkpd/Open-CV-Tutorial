{
 "cells": [
  {
   "cell_type": "markdown",
   "metadata": {
    "colab_type": "text",
    "id": "view-in-github"
   },
   "source": [
    "<a href=\"https://colab.research.google.com/github/Prasadkpd/Open-CV-Tutorial/blob/master/04_Add_Text_on_Image_using_OpenCV.ipynb\" target=\"_parent\"><img src=\"https://colab.research.google.com/assets/colab-badge.svg\" alt=\"Open In Colab\"/></a>"
   ]
  },
  {
   "cell_type": "markdown",
   "metadata": {
    "id": "ZWiSN8Sl7Lql"
   },
   "source": [
    "## Install openCV library/package"
   ]
  },
  {
   "cell_type": "code",
   "execution_count": 1,
   "metadata": {
    "colab": {
     "base_uri": "https://localhost:8080/"
    },
    "id": "shdyRJ1e6Y3E",
    "outputId": "a8222638-bf89-45ea-b935-6a3ccd64ce2c"
   },
   "outputs": [
    {
     "name": "stdout",
     "output_type": "stream",
     "text": [
      "Requirement already satisfied: opencv-contrib-python in /opt/homebrew/anaconda3/lib/python3.9/site-packages (4.7.0.68)\n",
      "Requirement already satisfied: numpy>=1.21.0 in /opt/homebrew/anaconda3/lib/python3.9/site-packages (from opencv-contrib-python) (1.21.5)\n",
      "Note: you may need to restart the kernel to use updated packages.\n"
     ]
    }
   ],
   "source": [
    "pip install opencv-contrib-python"
   ]
  },
  {
   "cell_type": "markdown",
   "metadata": {
    "id": "NtxtUoVN7Zcr"
   },
   "source": [
    "## Import OpenCV package"
   ]
  },
  {
   "cell_type": "code",
   "execution_count": 2,
   "metadata": {
    "id": "LVNb09yW7atv"
   },
   "outputs": [],
   "source": [
    "import cv2\n",
    "from datetime import datetime"
   ]
  },
  {
   "cell_type": "markdown",
   "metadata": {
    "id": "C0A7v6JZ898C"
   },
   "source": [
    "## Access stored video, laptop camera or any other ip based camera"
   ]
  },
  {
   "cell_type": "code",
   "execution_count": 3,
   "metadata": {
    "id": "q4KO5X1y9AUd"
   },
   "outputs": [],
   "source": [
    "cap = cv2.VideoCapture(0) #Capture video from storage/ laptop camera / Ip based camera"
   ]
  },
  {
   "cell_type": "markdown",
   "metadata": {
    "id": "IAy3RS2E9NPp"
   },
   "source": [
    "## Add Text on video"
   ]
  },
  {
   "cell_type": "code",
   "execution_count": 1,
   "metadata": {
    "id": "K_MJvTrm9Pv9"
   },
   "outputs": [
    {
     "ename": "NameError",
     "evalue": "name 'cap' is not defined",
     "output_type": "error",
     "traceback": [
      "\u001b[0;31m---------------------------------------------------------------------------\u001b[0m",
      "\u001b[0;31mNameError\u001b[0m                                 Traceback (most recent call last)",
      "Input \u001b[0;32mIn [1]\u001b[0m, in \u001b[0;36m<cell line: 2>\u001b[0;34m()\u001b[0m\n\u001b[1;32m      1\u001b[0m \u001b[38;5;28;01mwhile\u001b[39;00m \u001b[38;5;28;01mTrue\u001b[39;00m:\n\u001b[0;32m----> 2\u001b[0m     ret, frame \u001b[38;5;241m=\u001b[39m \u001b[43mcap\u001b[49m\u001b[38;5;241m.\u001b[39mread()  \u001b[38;5;66;03m# read frame/image one by one    \u001b[39;00m\n\u001b[1;32m      4\u001b[0m     now \u001b[38;5;241m=\u001b[39m datetime\u001b[38;5;241m.\u001b[39mnow()\n\u001b[1;32m      5\u001b[0m     current_time \u001b[38;5;241m=\u001b[39m now\u001b[38;5;241m.\u001b[39mstrftime(\u001b[38;5;124m\"\u001b[39m\u001b[38;5;124m%\u001b[39m\u001b[38;5;124mm/\u001b[39m\u001b[38;5;132;01m%d\u001b[39;00m\u001b[38;5;124m/\u001b[39m\u001b[38;5;124m%\u001b[39m\u001b[38;5;124mY, \u001b[39m\u001b[38;5;124m%\u001b[39m\u001b[38;5;124mH:\u001b[39m\u001b[38;5;124m%\u001b[39m\u001b[38;5;124mM:\u001b[39m\u001b[38;5;124m%\u001b[39m\u001b[38;5;124mS\u001b[39m\u001b[38;5;124m\"\u001b[39m)\n",
      "\u001b[0;31mNameError\u001b[0m: name 'cap' is not defined"
     ]
    }
   ],
   "source": [
    "while True:\n",
    "    ret, frame = cap.read()  # read frame/image one by one    \n",
    "    \n",
    "    now = datetime.now()\n",
    "    current_time = now.strftime(\"%m/%d/%Y, %H:%M:%S\")\n",
    "    text = \"Live Streaming\"\n",
    "    \n",
    "    font = cv2.FONT_HERSHEY_SIMPLEX  #font to apply on text\n",
    "    cv2.putText(frame, current_time, (50, 50), font, 1, (0, 0, 255), 2) # add text on frame\n",
    "    cv2.imshow(\"Frame\", frame)   # display frame/image\n",
    "    \n",
    "    key = cv2.waitKey(1)  # wait till key press \n",
    "    if key == ord(\"q\"):  # exit loop on 'q' key press\n",
    "        break\n",
    "        \n",
    "cap.release() # release video capture object\n",
    "cv2.destroyAllWindows()  # destroy all frame windows"
   ]
  },
  {
   "cell_type": "code",
   "execution_count": null,
   "metadata": {},
   "outputs": [],
   "source": []
  },
  {
   "cell_type": "code",
   "execution_count": null,
   "metadata": {},
   "outputs": [],
   "source": []
  }
 ],
 "metadata": {
  "colab": {
   "authorship_tag": "ABX9TyNKKwUG3GsryZXkedr6BJth",
   "include_colab_link": true,
   "provenance": []
  },
  "kernelspec": {
   "display_name": "Python 3 (ipykernel)",
   "language": "python",
   "name": "python3"
  },
  "language_info": {
   "codemirror_mode": {
    "name": "ipython",
    "version": 3
   },
   "file_extension": ".py",
   "mimetype": "text/x-python",
   "name": "python",
   "nbconvert_exporter": "python",
   "pygments_lexer": "ipython3",
   "version": "3.9.13"
  }
 },
 "nbformat": 4,
 "nbformat_minor": 1
}
