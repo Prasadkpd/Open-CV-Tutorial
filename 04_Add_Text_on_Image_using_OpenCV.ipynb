{
  "nbformat": 4,
  "nbformat_minor": 0,
  "metadata": {
    "colab": {
      "provenance": [],
      "authorship_tag": "ABX9TyNKKwUG3GsryZXkedr6BJth",
      "include_colab_link": true
    },
    "kernelspec": {
      "name": "python3",
      "display_name": "Python 3"
    },
    "language_info": {
      "name": "python"
    }
  },
  "cells": [
    {
      "cell_type": "markdown",
      "metadata": {
        "id": "view-in-github",
        "colab_type": "text"
      },
      "source": [
        "<a href=\"https://colab.research.google.com/github/Prasadkpd/Open-CV-Tutorial/blob/master/04_Add_Text_on_Image_using_OpenCV.ipynb\" target=\"_parent\"><img src=\"https://colab.research.google.com/assets/colab-badge.svg\" alt=\"Open In Colab\"/></a>"
      ]
    },
    {
      "cell_type": "markdown",
      "source": [
        "## Install openCV library/package"
      ],
      "metadata": {
        "id": "ZWiSN8Sl7Lql"
      }
    },
    {
      "cell_type": "code",
      "execution_count": 1,
      "metadata": {
        "colab": {
          "base_uri": "https://localhost:8080/"
        },
        "id": "shdyRJ1e6Y3E",
        "outputId": "a8222638-bf89-45ea-b935-6a3ccd64ce2c"
      },
      "outputs": [
        {
          "output_type": "stream",
          "name": "stdout",
          "text": [
            "Looking in indexes: https://pypi.org/simple, https://us-python.pkg.dev/colab-wheels/public/simple/\n",
            "Requirement already satisfied: opencv-contrib-python in /usr/local/lib/python3.8/dist-packages (4.6.0.66)\n",
            "Requirement already satisfied: numpy>=1.14.5 in /usr/local/lib/python3.8/dist-packages (from opencv-contrib-python) (1.21.6)\n"
          ]
        }
      ],
      "source": [
        "pip install opencv-contrib-python"
      ]
    },
    {
      "cell_type": "markdown",
      "source": [
        "## Import OpenCV package"
      ],
      "metadata": {
        "id": "NtxtUoVN7Zcr"
      }
    },
    {
      "cell_type": "code",
      "source": [
        "import cv2"
      ],
      "metadata": {
        "id": "LVNb09yW7atv"
      },
      "execution_count": 3,
      "outputs": []
    },
    {
      "cell_type": "markdown",
      "source": [
        "## Access stored video, laptop camera or any other ip based camera"
      ],
      "metadata": {
        "id": "C0A7v6JZ898C"
      }
    },
    {
      "cell_type": "code",
      "source": [
        "cap = cv2.VideoCapture(0) #Capture video from storage/ laptop camera / Ip based camera"
      ],
      "metadata": {
        "id": "q4KO5X1y9AUd"
      },
      "execution_count": 10,
      "outputs": []
    },
    {
      "cell_type": "markdown",
      "source": [
        "## Add Text on video"
      ],
      "metadata": {
        "id": "IAy3RS2E9NPp"
      }
    },
    {
      "cell_type": "code",
      "source": [
        "while True:\n",
        "    ret, frame = cap.read()  # read frame/image one by one    \n",
        "    \n",
        "    now = datetime.now()\n",
        "    current_time = now.strftime(\"%m/%d/%Y, %H:%M:%S\")\n",
        "    text = \"Live Streaming\"\n",
        "    \n",
        "    font = cv2.FONT_HERSHEY_SIMPLEX  #font to apply on text\n",
        "    cv2.putText(frame, current_time, (50, 50), font, 1, (0, 0, 255), 2) # add text on frame\n",
        "    cv2.imshow(\"Frame\", frame)   # display frame/image\n",
        "    \n",
        "    key = cv2.waitKey(1)  # wait till key press \n",
        "    if key == ord(\"q\"):  # exit loop on 'q' key press\n",
        "        break\n",
        "        \n",
        "cap.release() # release video capture object\n",
        "cv2.destroyAllWindows()  # destroy all frame windows"
      ],
      "metadata": {
        "id": "K_MJvTrm9Pv9"
      },
      "execution_count": null,
      "outputs": []
    }
  ]
}